{
 "cells": [
  {
   "cell_type": "code",
   "execution_count": 1,
   "id": "45294319-5b3d-407f-b125-b736ad0d9d40",
   "metadata": {},
   "outputs": [],
   "source": [
    "from main import prepare_for_answer"
   ]
  },
  {
   "cell_type": "code",
   "execution_count": 2,
   "id": "349e3bcc-0f39-4ccd-9a7c-b623d1b138c2",
   "metadata": {},
   "outputs": [],
   "source": [
    "import pandas as pd\n",
    "data = pd.read_csv(\"test data.csv\")"
   ]
  },
  {
   "cell_type": "code",
   "execution_count": 3,
   "id": "ac35595e-1d6b-4cd4-86c9-87a284af2b8d",
   "metadata": {},
   "outputs": [
    {
     "data": {
      "text/html": [
       "<div>\n",
       "<style scoped>\n",
       "    .dataframe tbody tr th:only-of-type {\n",
       "        vertical-align: middle;\n",
       "    }\n",
       "\n",
       "    .dataframe tbody tr th {\n",
       "        vertical-align: top;\n",
       "    }\n",
       "\n",
       "    .dataframe thead th {\n",
       "        text-align: right;\n",
       "    }\n",
       "</style>\n",
       "<table border=\"1\" class=\"dataframe\">\n",
       "  <thead>\n",
       "    <tr style=\"text-align: right;\">\n",
       "      <th></th>\n",
       "      <th>Metrics</th>\n",
       "      <th>Samsung</th>\n",
       "      <th>Sony</th>\n",
       "      <th>LG</th>\n",
       "      <th>Nike</th>\n",
       "      <th>Adidas</th>\n",
       "      <th>Puma</th>\n",
       "    </tr>\n",
       "  </thead>\n",
       "  <tbody>\n",
       "    <tr>\n",
       "      <th>0</th>\n",
       "      <td>Awareness</td>\n",
       "      <td>80</td>\n",
       "      <td>75</td>\n",
       "      <td>70</td>\n",
       "      <td>90</td>\n",
       "      <td>85</td>\n",
       "      <td>80</td>\n",
       "    </tr>\n",
       "    <tr>\n",
       "      <th>1</th>\n",
       "      <td>Consideration</td>\n",
       "      <td>65</td>\n",
       "      <td>60</td>\n",
       "      <td>55</td>\n",
       "      <td>75</td>\n",
       "      <td>70</td>\n",
       "      <td>65</td>\n",
       "    </tr>\n",
       "    <tr>\n",
       "      <th>2</th>\n",
       "      <td>Preference</td>\n",
       "      <td>45</td>\n",
       "      <td>50</td>\n",
       "      <td>40</td>\n",
       "      <td>60</td>\n",
       "      <td>55</td>\n",
       "      <td>50</td>\n",
       "    </tr>\n",
       "    <tr>\n",
       "      <th>3</th>\n",
       "      <td>Associations</td>\n",
       "      <td>Innovation, Reliability</td>\n",
       "      <td>Entertainment, Quality</td>\n",
       "      <td>Technology, Design</td>\n",
       "      <td>Performance, Style</td>\n",
       "      <td>Comfort, Innovation</td>\n",
       "      <td>Durability, Fashion</td>\n",
       "    </tr>\n",
       "    <tr>\n",
       "      <th>4</th>\n",
       "      <td>Net promoter score</td>\n",
       "      <td>30</td>\n",
       "      <td>25</td>\n",
       "      <td>20</td>\n",
       "      <td>40</td>\n",
       "      <td>35</td>\n",
       "      <td>30</td>\n",
       "    </tr>\n",
       "  </tbody>\n",
       "</table>\n",
       "</div>"
      ],
      "text/plain": [
       "              Metrics                  Samsung                    Sony  \\\n",
       "0           Awareness                       80                      75   \n",
       "1       Consideration                       65                      60   \n",
       "2          Preference                       45                      50   \n",
       "3        Associations  Innovation, Reliability  Entertainment, Quality   \n",
       "4  Net promoter score                       30                      25   \n",
       "\n",
       "                   LG                Nike               Adidas  \\\n",
       "0                  70                  90                   85   \n",
       "1                  55                  75                   70   \n",
       "2                  40                  60                   55   \n",
       "3  Technology, Design  Performance, Style  Comfort, Innovation   \n",
       "4                  20                  40                   35   \n",
       "\n",
       "                  Puma  \n",
       "0                   80  \n",
       "1                   65  \n",
       "2                   50  \n",
       "3  Durability, Fashion  \n",
       "4                   30  "
      ]
     },
     "execution_count": 3,
     "metadata": {},
     "output_type": "execute_result"
    }
   ],
   "source": [
    "data.head()"
   ]
  },
  {
   "cell_type": "code",
   "execution_count": 4,
   "id": "b9c5b96a-5028-4994-8699-2e594d2cbcf1",
   "metadata": {},
   "outputs": [
    {
     "name": "stderr",
     "output_type": "stream",
     "text": [
      "\u001b[32m2025-03-24 21:59:50.825\u001b[0m | \u001b[1mINFO    \u001b[0m | \u001b[36mmain\u001b[0m:\u001b[36mextract_data_from_doc\u001b[0m:\u001b[36m13\u001b[0m - \u001b[1mReading knowledge data from location: test data.csv\u001b[0m\n",
      "\u001b[32m2025-03-24 21:59:50.825\u001b[0m | \u001b[1mINFO    \u001b[0m | \u001b[36mmain\u001b[0m:\u001b[36mextract_data_from_doc\u001b[0m:\u001b[36m15\u001b[0m - \u001b[1mStarting data extraction for preperation of knowledge base\u001b[0m\n",
      "\u001b[32m2025-03-24 22:00:09.667\u001b[0m | \u001b[1mINFO    \u001b[0m | \u001b[36mmain\u001b[0m:\u001b[36mprepare_for_answer\u001b[0m:\u001b[36m27\u001b[0m - \u001b[1mPreparing knowledge base\u001b[0m\n",
      "\u001b[32m2025-03-24 22:00:09.668\u001b[0m | \u001b[1mINFO    \u001b[0m | \u001b[36mmain\u001b[0m:\u001b[36mprepare_for_answer\u001b[0m:\u001b[36m29\u001b[0m - \u001b[1mPreparing a answer retrival module\u001b[0m\n",
      "\u001b[32m2025-03-24 22:00:09.668\u001b[0m | \u001b[1mINFO    \u001b[0m | \u001b[36mmain\u001b[0m:\u001b[36mprepare_for_answer\u001b[0m:\u001b[36m31\u001b[0m - \u001b[1mPreparing table question answering pipeline\u001b[0m\n"
     ]
    }
   ],
   "source": [
    "answer_pipeline, description = prepare_for_answer()"
   ]
  },
  {
   "cell_type": "markdown",
   "id": "596acc90-db9a-4c50-a23d-917c740bfa95",
   "metadata": {},
   "source": [
    "We used open source gemma3:4b model. This is very generic model. We can always replace it with larger model."
   ]
  },
  {
   "cell_type": "code",
   "execution_count": 8,
   "id": "a2aa008e-0d01-4cb2-a8ee-2fa02c02d791",
   "metadata": {},
   "outputs": [
    {
     "data": {
      "text/plain": [
       "'Here’s a comprehensive textual description of the provided CSV data:  Overall Data Description:  The dataset contains information about consumer perception of several brands – Samsung, Sony, LG, Nike, Adidas, Puma – across a range of metrics. The data is structured with brands as rows and metrics as columns. The dataset includes measurements related to brand awareness, consideration, preference, associations, customer loyalty, satisfaction, purchase intent, advertising recall, social media mentions, and market share.  Column Descriptions:     Metrics: This column serves as the header, identifying the specific metric being measured for each brand.    Samsung: This column contains the values for each metric for the Samsung brand.    Sony: This column contains the values for each metric for the Sony brand.    LG: This column contains the values for each metric for the LG brand.    Nike: This column contains the values for each metric for the Nike brand.    Adidas: This column contains the values for each metric for the Adidas brand.    Puma: This column contains the values for each metric for the Puma brand.  Value Ranges and Distributions:     Brand Awareness: Ranges from 20% to 90%.  Samsung (80%), Nike (90%), and Puma (80%) have the highest brand awareness, while LG (70%) and Sony (75%) have the lowest.    Consideration: Ranges from 20% to 65%.  Nike (75%) and Samsung (65%) have the highest consideration, while LG (55%) and Adidas (40%) have the lowest.    Preference: Ranges from 20% to 45%. Samsung (45%) and Adidas (55%) have the highest preference, while LG (40%) and Puma (35%) have the lowest.    Brand Associations:  The values represent the attributes consumers associate with each brand. Samsung’s associations are “Innovation, Reliability”, Sony’s are “Entertainment, Quality”, LG’s are “Technology, Design”, Nike’s are “Performance, Style”, Adidas’ are “Comfort, Innovation”, and Puma’s are “Durability, Fashion”.    Net Promoter Score (NPS): Ranges from 20% to 30%. Puma (30%) and LG (20%) have the lowest NPS, indicating lower customer loyalty.    Customer Satisfaction Score: Ranges from 20% to 88%. Samsung (88%) and Nike (85%) have the highest customer satisfaction scores.    Purchase Intent: Ranges from 20% to 58%. Samsung (58%) and Nike (65%) have the highest purchase intent.    Ad Recall: Ranges from 20% to 68%. Samsung (68%) and Nike (72%) have the highest ad recall.    Social Media Mentions:  The number of mentions varies significantly, ranging from 1100 to 1500. Puma (1500) has the highest number of mentions, followed by Nike (1200), Samsung (1100), and then Sony, LG, and Adidas.    Market Share: Ranges from 29% to 38%. Samsung (38%) and Nike (45%) have the highest market share.  Row-Specific Data:     Row 0 (All Brands): All brands share the same values for “Brand Awareness” (80%, 75%, 70%, 90%, 85, 1100, 38).    Row 1 (All Brands): All brands share the same values for “Consideration” (65%, 60%, 55%, 75%, 70, 92, 50).    Row 2 (All Brands): All brands share the same values for “Preference” (45%, 50%, 40%, 60%, 55, 85, 65).    Row 3 (All Brands): All brands share the same values for “Brand Associations” (Innovation, Reliability, Entertainment, Quality, Technology, Design, Performance, Style, Comfort, Innovation, Durability, Fashion).    Row 4 (All Brands): All brands share the same values for “Net Promoter Score” (30%, 25%, 20%, 40%, 35, 1000, 29).    Row 5 (All Brands): All brands share the same values for “Customer Satisfaction” (88%, 82%, 78%, 92%, 88, 85, 50).    Row 6 (All Brands): All brands share the same values for “Purchase Intent” (58%, 53%, 55%, 60%, 65, 60, 72).    Row 7 (All Brands): All brands share the same values for “Ad Recall” (68%, 62%, 65%, 70%, 72, 55, 60).    Row 8 (All Brands):  The number of social media mentions varies: Samsung (1100), Sony (900), LG (78), Nike (1500), Adidas (1200), Puma (850).    Row 9 (All Brands): The market share is: Samsung (38%), Sony (33%), LG (29%), Nike (45%), Adidas (40%), Puma (35%).  Concise Overview:  The dataset provides a snapshot of consumer perception across several prominent brands. It highlights differences in brand awareness, consideration, preference, and loyalty, as well as variations in purchase intent and social media engagement. The data suggests that Nike and Samsung are generally perceived favorably across multiple metrics, while LG and Puma have lower scores in some areas.  The social media mention data indicates a significant difference in brand visibility on social platforms.'"
      ]
     },
     "execution_count": 8,
     "metadata": {},
     "output_type": "execute_result"
    }
   ],
   "source": [
    "description.replace(\"\\n\", \" \").replace(\"*\", \"\")"
   ]
  },
  {
   "cell_type": "markdown",
   "id": "06ced1ed-2bb3-4da0-8ca4-26dbaf764e0c",
   "metadata": {},
   "source": [
    "<h4>Lets start question answering on tabular data</h4>"
   ]
  },
  {
   "cell_type": "code",
   "execution_count": 17,
   "id": "de3c3ba1-60b1-4a2a-9bc5-1d30e769d878",
   "metadata": {},
   "outputs": [],
   "source": [
    "def get_answer(question):\n",
    "    output = answer_pipeline.predict_answer(question)\n",
    "    return output"
   ]
  },
  {
   "cell_type": "code",
   "execution_count": 18,
   "id": "83a4df96-1b21-4ddb-bc16-024afc99c36b",
   "metadata": {},
   "outputs": [
    {
     "data": {
      "text/plain": [
       "['The awareness score for Sony is 75% according to the provided data.']"
      ]
     },
     "execution_count": 18,
     "metadata": {},
     "output_type": "execute_result"
    }
   ],
   "source": [
    "question = \"What is the awareness score for Sony?\"\n",
    "get_answer(question)"
   ]
  },
  {
   "cell_type": "code",
   "execution_count": 19,
   "id": "c79a456c-ebf6-488a-b2e9-11d9ec1274a8",
   "metadata": {},
   "outputs": [
    {
     "data": {
      "text/plain": [
       "[\"Based on the provided data, there is no direct correlation between Brand Awareness and Net Promoter Score (NPS).\\n\\nHere's why:\\n\\n*   **Different Ranges:** Brand Awareness ranges from 20% to 90%, while NPS ranges from 20% to 30%.\\n*   **Individual Brand Data:** The data provides individual values for each brand across both metrics. There isn't a single table or calculation that links them.\\n\\nTo determine a correlation, you would need to analyze the data for each brand individually and see if there's a statistically significant relationship between their Awareness and NPS scores. However, the data provided doesn't allow for this type of analysis.\"]"
      ]
     },
     "execution_count": 19,
     "metadata": {},
     "output_type": "execute_result"
    }
   ],
   "source": [
    "question = \"Is there any correlation between Awareness and net promoter score?\"\n",
    "get_answer(question)"
   ]
  },
  {
   "cell_type": "code",
   "execution_count": 20,
   "id": "2dbbe0ce-ef6f-421a-87fb-4e9d3336ffae",
   "metadata": {},
   "outputs": [
    {
     "data": {
      "text/plain": [
       "['Based on the provided data, **Innovation** is the brand association with the highest impact on Net Promoter Score (NPS).\\n\\nHere’s how we arrive at this conclusion:\\n\\n*   The data shows that **Samsung** associates itself with “Innovation” and has the lowest NPS (20%).\\n*   **Adidas** also associates itself with “Innovation” and has a lower NPS (40%).\\n\\nTherefore, the association of “Innovation” appears to be negatively correlated with a lower NPS across the brands.']"
      ]
     },
     "execution_count": 20,
     "metadata": {},
     "output_type": "execute_result"
    }
   ],
   "source": [
    "question = \"looking at the data. which association has higher impact on net promoter score?\"\n",
    "get_answer(question)"
   ]
  },
  {
   "cell_type": "code",
   "execution_count": 21,
   "id": "394a5ba9-cc45-4f35-a011-a32d4341d45f",
   "metadata": {},
   "outputs": [
    {
     "data": {
      "text/plain": [
       "['Based on the provided data, here’s an assessment of a new brand focusing on comfort, style, and innovation, and a likely Net Promoter Score (NPS):\\n\\n**Analysis:**\\n\\n*   **Brand Associations:** The brand’s focus on “comfort, innovation, and style” aligns strongly with Adidas’ existing brand associations (Comfort, Innovation) and Samsung’s (Innovation, Reliability). This suggests a potential overlap in consumer perception.\\n*   **High-Performing Brands:** Nike and Samsung are consistently high performers across multiple metrics, particularly in Brand Awareness, Consideration, Preference, Purchase Intent, and Customer Satisfaction.\\n*   **NPS Correlation:** Brands with higher customer satisfaction scores tend to have higher NPS scores.\\n\\n**Likely Net Promoter Score (NPS):**\\n\\nGiven the brand’s focus, and considering the data, a reasonable NPS estimate would be in the **30-40% range**.\\n\\n*   **Justification:** Puma currently has the lowest NPS at 30%, indicating lower customer loyalty. A new brand emphasizing comfort and style could potentially achieve a score closer to Puma’s, but with a focus on innovation, it could potentially edge towards the higher end of the range, perhaps reaching 40% if it successfully resonates with consumers.\\n\\n**Important Note:** This is an estimate based solely on the provided data. A real-world NPS would require actual surveys and data collection.']"
      ]
     },
     "execution_count": 21,
     "metadata": {},
     "output_type": "execute_result"
    }
   ],
   "source": [
    "question = \"for a new brand, if i focus on comfort style and innovation. what might be the net promoter score?\"\n",
    "get_answer(question)"
   ]
  },
  {
   "cell_type": "code",
   "execution_count": null,
   "id": "42e22612-bd95-4f4f-aae1-0e3930c51844",
   "metadata": {},
   "outputs": [],
   "source": []
  }
 ],
 "metadata": {
  "kernelspec": {
   "display_name": "Python 3 (ipykernel)",
   "language": "python",
   "name": "python3"
  },
  "language_info": {
   "codemirror_mode": {
    "name": "ipython",
    "version": 3
   },
   "file_extension": ".py",
   "mimetype": "text/x-python",
   "name": "python",
   "nbconvert_exporter": "python",
   "pygments_lexer": "ipython3",
   "version": "3.10.16"
  }
 },
 "nbformat": 4,
 "nbformat_minor": 5
}
